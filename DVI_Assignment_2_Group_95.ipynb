{
 "cells": [
  {
   "cell_type": "markdown",
   "metadata": {
    "id": "Om4KN3mHHx2c"
   },
   "source": [
    "**DVI Group 95_Assignment 2**"
   ]
  },
  {
   "cell_type": "markdown",
   "metadata": {
    "id": "20MQC8u-H0wH"
   },
   "source": [
    "     Name                      BITS ID              Contribution\n",
    "\n",
    "Abhilipsa Rout               2022dc04220             100%\n",
    "\n",
    "Rohini                       2022dc04404            100%\n",
    "\n",
    "Rahul Rohilla                2022dc04425            100%\n",
    "\n"
   ]
  },
  {
   "cell_type": "code",
   "execution_count": 1,
   "metadata": {
    "id": "w-kPi2NVHS_G"
   },
   "outputs": [],
   "source": [
    "import pandas as pd\n",
    "import numpy as np\n",
    "import matplotlib.pyplot as plt\n",
    "import seaborn as sns"
   ]
  },
  {
   "cell_type": "markdown",
   "metadata": {
    "id": "FFDXvxzgHns-"
   },
   "source": [
    "**Load data and store in dataframe**"
   ]
  },
  {
   "cell_type": "code",
   "execution_count": 3,
   "metadata": {
    "colab": {
     "base_uri": "https://localhost:8080/",
     "height": 310
    },
    "id": "DaBW7vagGSOl",
    "outputId": "eb9827bc-7ba4-4e5c-c138-ea5f40b60d57"
   },
   "outputs": [
    {
     "data": {
      "application/vnd.google.colaboratory.intrinsic+json": {
       "summary": "{\n  \"name\": \"df\",\n  \"rows\": 1000,\n  \"fields\": [\n    {\n      \"column\": \"Invoice ID\",\n      \"properties\": {\n        \"dtype\": \"string\",\n        \"num_unique_values\": 1000,\n        \"samples\": [\n          \"451-28-5717\",\n          \"137-63-5492\",\n          \"733-29-1227\"\n        ],\n        \"semantic_type\": \"\",\n        \"description\": \"\"\n      }\n    },\n    {\n      \"column\": \"Branch\",\n      \"properties\": {\n        \"dtype\": \"category\",\n        \"num_unique_values\": 3,\n        \"samples\": [\n          \"A\",\n          \"C\",\n          \"B\"\n        ],\n        \"semantic_type\": \"\",\n        \"description\": \"\"\n      }\n    },\n    {\n      \"column\": \"City\",\n      \"properties\": {\n        \"dtype\": \"category\",\n        \"num_unique_values\": 3,\n        \"samples\": [\n          \"Yangon\",\n          \"Naypyitaw\",\n          \"Mandalay\"\n        ],\n        \"semantic_type\": \"\",\n        \"description\": \"\"\n      }\n    },\n    {\n      \"column\": \"Customer type\",\n      \"properties\": {\n        \"dtype\": \"category\",\n        \"num_unique_values\": 2,\n        \"samples\": [\n          \"Normal\",\n          \"Member\"\n        ],\n        \"semantic_type\": \"\",\n        \"description\": \"\"\n      }\n    },\n    {\n      \"column\": \"Gender\",\n      \"properties\": {\n        \"dtype\": \"category\",\n        \"num_unique_values\": 2,\n        \"samples\": [\n          \"Male\",\n          \"Female\"\n        ],\n        \"semantic_type\": \"\",\n        \"description\": \"\"\n      }\n    },\n    {\n      \"column\": \"Product line\",\n      \"properties\": {\n        \"dtype\": \"category\",\n        \"num_unique_values\": 6,\n        \"samples\": [\n          \"Health and beauty\",\n          \"Electronic accessories\"\n        ],\n        \"semantic_type\": \"\",\n        \"description\": \"\"\n      }\n    },\n    {\n      \"column\": \"Unit price\",\n      \"properties\": {\n        \"dtype\": \"number\",\n        \"std\": 26.49462834791978,\n        \"min\": 10.08,\n        \"max\": 99.96,\n        \"num_unique_values\": 943,\n        \"samples\": [\n          12.45,\n          70.74\n        ],\n        \"semantic_type\": \"\",\n        \"description\": \"\"\n      }\n    },\n    {\n      \"column\": \"Quantity\",\n      \"properties\": {\n        \"dtype\": \"number\",\n        \"std\": 2,\n        \"min\": 1,\n        \"max\": 10,\n        \"num_unique_values\": 10,\n        \"samples\": [\n          1,\n          5\n        ],\n        \"semantic_type\": \"\",\n        \"description\": \"\"\n      }\n    },\n    {\n      \"column\": \"Total\",\n      \"properties\": {\n        \"dtype\": \"number\",\n        \"std\": 245.88533510097187,\n        \"min\": 10.6785,\n        \"max\": 1042.65,\n        \"num_unique_values\": 990,\n        \"samples\": [\n          19.194,\n          49.308\n        ],\n        \"semantic_type\": \"\",\n        \"description\": \"\"\n      }\n    },\n    {\n      \"column\": \"Date\",\n      \"properties\": {\n        \"dtype\": \"object\",\n        \"num_unique_values\": 89,\n        \"samples\": [\n          \"2/14/2019\",\n          \"1/26/2019\"\n        ],\n        \"semantic_type\": \"\",\n        \"description\": \"\"\n      }\n    },\n    {\n      \"column\": \"Time\",\n      \"properties\": {\n        \"dtype\": \"object\",\n        \"num_unique_values\": 506,\n        \"samples\": [\n          \"10:13\",\n          \"11:21\"\n        ],\n        \"semantic_type\": \"\",\n        \"description\": \"\"\n      }\n    },\n    {\n      \"column\": \"Payment\",\n      \"properties\": {\n        \"dtype\": \"category\",\n        \"num_unique_values\": 3,\n        \"samples\": [\n          \"Ewallet\",\n          \"Cash\"\n        ],\n        \"semantic_type\": \"\",\n        \"description\": \"\"\n      }\n    },\n    {\n      \"column\": \"costofgoodssold\",\n      \"properties\": {\n        \"dtype\": \"number\",\n        \"std\": 234.1765096199732,\n        \"min\": 10.17,\n        \"max\": 993.0,\n        \"num_unique_values\": 990,\n        \"samples\": [\n          18.28,\n          46.96\n        ],\n        \"semantic_type\": \"\",\n        \"description\": \"\"\n      }\n    },\n    {\n      \"column\": \"Rating\",\n      \"properties\": {\n        \"dtype\": \"number\",\n        \"std\": 1.7185802943791215,\n        \"min\": 4.0,\n        \"max\": 10.0,\n        \"num_unique_values\": 61,\n        \"samples\": [\n          9.1,\n          4.1\n        ],\n        \"semantic_type\": \"\",\n        \"description\": \"\"\n      }\n    }\n  ]\n}",
       "type": "dataframe",
       "variable_name": "df"
      },
      "text/html": [
       "\n",
       "  <div id=\"df-eae854e4-d6f6-4d6a-abb5-bce5237730c1\" class=\"colab-df-container\">\n",
       "    <div>\n",
       "<style scoped>\n",
       "    .dataframe tbody tr th:only-of-type {\n",
       "        vertical-align: middle;\n",
       "    }\n",
       "\n",
       "    .dataframe tbody tr th {\n",
       "        vertical-align: top;\n",
       "    }\n",
       "\n",
       "    .dataframe thead th {\n",
       "        text-align: right;\n",
       "    }\n",
       "</style>\n",
       "<table border=\"1\" class=\"dataframe\">\n",
       "  <thead>\n",
       "    <tr style=\"text-align: right;\">\n",
       "      <th></th>\n",
       "      <th>Invoice ID</th>\n",
       "      <th>Branch</th>\n",
       "      <th>City</th>\n",
       "      <th>Customer type</th>\n",
       "      <th>Gender</th>\n",
       "      <th>Product line</th>\n",
       "      <th>Unit price</th>\n",
       "      <th>Quantity</th>\n",
       "      <th>Total</th>\n",
       "      <th>Date</th>\n",
       "      <th>Time</th>\n",
       "      <th>Payment</th>\n",
       "      <th>costofgoodssold</th>\n",
       "      <th>Rating</th>\n",
       "    </tr>\n",
       "  </thead>\n",
       "  <tbody>\n",
       "    <tr>\n",
       "      <th>0</th>\n",
       "      <td>750-67-8428</td>\n",
       "      <td>A</td>\n",
       "      <td>Yangon</td>\n",
       "      <td>Member</td>\n",
       "      <td>Female</td>\n",
       "      <td>Health and beauty</td>\n",
       "      <td>74.69</td>\n",
       "      <td>7</td>\n",
       "      <td>548.9715</td>\n",
       "      <td>01-05-2019</td>\n",
       "      <td>13:08</td>\n",
       "      <td>Ewallet</td>\n",
       "      <td>522.83</td>\n",
       "      <td>9.1</td>\n",
       "    </tr>\n",
       "    <tr>\n",
       "      <th>1</th>\n",
       "      <td>226-31-3081</td>\n",
       "      <td>C</td>\n",
       "      <td>Naypyitaw</td>\n",
       "      <td>Normal</td>\n",
       "      <td>Female</td>\n",
       "      <td>Electronic accessories</td>\n",
       "      <td>15.28</td>\n",
       "      <td>5</td>\n",
       "      <td>80.2200</td>\n",
       "      <td>03-08-2019</td>\n",
       "      <td>10:29</td>\n",
       "      <td>Cash</td>\n",
       "      <td>76.40</td>\n",
       "      <td>9.6</td>\n",
       "    </tr>\n",
       "    <tr>\n",
       "      <th>2</th>\n",
       "      <td>631-41-3108</td>\n",
       "      <td>A</td>\n",
       "      <td>Yangon</td>\n",
       "      <td>Normal</td>\n",
       "      <td>Male</td>\n",
       "      <td>Home and lifestyle</td>\n",
       "      <td>46.33</td>\n",
       "      <td>7</td>\n",
       "      <td>340.5255</td>\n",
       "      <td>03-03-2019</td>\n",
       "      <td>13:23</td>\n",
       "      <td>Credit card</td>\n",
       "      <td>324.31</td>\n",
       "      <td>7.4</td>\n",
       "    </tr>\n",
       "    <tr>\n",
       "      <th>3</th>\n",
       "      <td>123-19-1176</td>\n",
       "      <td>A</td>\n",
       "      <td>Yangon</td>\n",
       "      <td>Member</td>\n",
       "      <td>Male</td>\n",
       "      <td>Health and beauty</td>\n",
       "      <td>58.22</td>\n",
       "      <td>8</td>\n",
       "      <td>489.0480</td>\n",
       "      <td>1/27/2019</td>\n",
       "      <td>20:33</td>\n",
       "      <td>Ewallet</td>\n",
       "      <td>465.76</td>\n",
       "      <td>8.4</td>\n",
       "    </tr>\n",
       "    <tr>\n",
       "      <th>4</th>\n",
       "      <td>373-73-7910</td>\n",
       "      <td>A</td>\n",
       "      <td>Yangon</td>\n",
       "      <td>Normal</td>\n",
       "      <td>Male</td>\n",
       "      <td>Sports and travel</td>\n",
       "      <td>86.31</td>\n",
       "      <td>7</td>\n",
       "      <td>634.3785</td>\n",
       "      <td>02-08-2019</td>\n",
       "      <td>10:37</td>\n",
       "      <td>Ewallet</td>\n",
       "      <td>604.17</td>\n",
       "      <td>5.3</td>\n",
       "    </tr>\n",
       "  </tbody>\n",
       "</table>\n",
       "</div>\n",
       "    <div class=\"colab-df-buttons\">\n",
       "\n",
       "  <div class=\"colab-df-container\">\n",
       "    <button class=\"colab-df-convert\" onclick=\"convertToInteractive('df-eae854e4-d6f6-4d6a-abb5-bce5237730c1')\"\n",
       "            title=\"Convert this dataframe to an interactive table.\"\n",
       "            style=\"display:none;\">\n",
       "\n",
       "  <svg xmlns=\"http://www.w3.org/2000/svg\" height=\"24px\" viewBox=\"0 -960 960 960\">\n",
       "    <path d=\"M120-120v-720h720v720H120Zm60-500h600v-160H180v160Zm220 220h160v-160H400v160Zm0 220h160v-160H400v160ZM180-400h160v-160H180v160Zm440 0h160v-160H620v160ZM180-180h160v-160H180v160Zm440 0h160v-160H620v160Z\"/>\n",
       "  </svg>\n",
       "    </button>\n",
       "\n",
       "  <style>\n",
       "    .colab-df-container {\n",
       "      display:flex;\n",
       "      gap: 12px;\n",
       "    }\n",
       "\n",
       "    .colab-df-convert {\n",
       "      background-color: #E8F0FE;\n",
       "      border: none;\n",
       "      border-radius: 50%;\n",
       "      cursor: pointer;\n",
       "      display: none;\n",
       "      fill: #1967D2;\n",
       "      height: 32px;\n",
       "      padding: 0 0 0 0;\n",
       "      width: 32px;\n",
       "    }\n",
       "\n",
       "    .colab-df-convert:hover {\n",
       "      background-color: #E2EBFA;\n",
       "      box-shadow: 0px 1px 2px rgba(60, 64, 67, 0.3), 0px 1px 3px 1px rgba(60, 64, 67, 0.15);\n",
       "      fill: #174EA6;\n",
       "    }\n",
       "\n",
       "    .colab-df-buttons div {\n",
       "      margin-bottom: 4px;\n",
       "    }\n",
       "\n",
       "    [theme=dark] .colab-df-convert {\n",
       "      background-color: #3B4455;\n",
       "      fill: #D2E3FC;\n",
       "    }\n",
       "\n",
       "    [theme=dark] .colab-df-convert:hover {\n",
       "      background-color: #434B5C;\n",
       "      box-shadow: 0px 1px 3px 1px rgba(0, 0, 0, 0.15);\n",
       "      filter: drop-shadow(0px 1px 2px rgba(0, 0, 0, 0.3));\n",
       "      fill: #FFFFFF;\n",
       "    }\n",
       "  </style>\n",
       "\n",
       "    <script>\n",
       "      const buttonEl =\n",
       "        document.querySelector('#df-eae854e4-d6f6-4d6a-abb5-bce5237730c1 button.colab-df-convert');\n",
       "      buttonEl.style.display =\n",
       "        google.colab.kernel.accessAllowed ? 'block' : 'none';\n",
       "\n",
       "      async function convertToInteractive(key) {\n",
       "        const element = document.querySelector('#df-eae854e4-d6f6-4d6a-abb5-bce5237730c1');\n",
       "        const dataTable =\n",
       "          await google.colab.kernel.invokeFunction('convertToInteractive',\n",
       "                                                    [key], {});\n",
       "        if (!dataTable) return;\n",
       "\n",
       "        const docLinkHtml = 'Like what you see? Visit the ' +\n",
       "          '<a target=\"_blank\" href=https://colab.research.google.com/notebooks/data_table.ipynb>data table notebook</a>'\n",
       "          + ' to learn more about interactive tables.';\n",
       "        element.innerHTML = '';\n",
       "        dataTable['output_type'] = 'display_data';\n",
       "        await google.colab.output.renderOutput(dataTable, element);\n",
       "        const docLink = document.createElement('div');\n",
       "        docLink.innerHTML = docLinkHtml;\n",
       "        element.appendChild(docLink);\n",
       "      }\n",
       "    </script>\n",
       "  </div>\n",
       "\n",
       "\n",
       "<div id=\"df-09d9f133-9c04-44df-b478-b6bd146c8659\">\n",
       "  <button class=\"colab-df-quickchart\" onclick=\"quickchart('df-09d9f133-9c04-44df-b478-b6bd146c8659')\"\n",
       "            title=\"Suggest charts\"\n",
       "            style=\"display:none;\">\n",
       "\n",
       "<svg xmlns=\"http://www.w3.org/2000/svg\" height=\"24px\"viewBox=\"0 0 24 24\"\n",
       "     width=\"24px\">\n",
       "    <g>\n",
       "        <path d=\"M19 3H5c-1.1 0-2 .9-2 2v14c0 1.1.9 2 2 2h14c1.1 0 2-.9 2-2V5c0-1.1-.9-2-2-2zM9 17H7v-7h2v7zm4 0h-2V7h2v10zm4 0h-2v-4h2v4z\"/>\n",
       "    </g>\n",
       "</svg>\n",
       "  </button>\n",
       "\n",
       "<style>\n",
       "  .colab-df-quickchart {\n",
       "      --bg-color: #E8F0FE;\n",
       "      --fill-color: #1967D2;\n",
       "      --hover-bg-color: #E2EBFA;\n",
       "      --hover-fill-color: #174EA6;\n",
       "      --disabled-fill-color: #AAA;\n",
       "      --disabled-bg-color: #DDD;\n",
       "  }\n",
       "\n",
       "  [theme=dark] .colab-df-quickchart {\n",
       "      --bg-color: #3B4455;\n",
       "      --fill-color: #D2E3FC;\n",
       "      --hover-bg-color: #434B5C;\n",
       "      --hover-fill-color: #FFFFFF;\n",
       "      --disabled-bg-color: #3B4455;\n",
       "      --disabled-fill-color: #666;\n",
       "  }\n",
       "\n",
       "  .colab-df-quickchart {\n",
       "    background-color: var(--bg-color);\n",
       "    border: none;\n",
       "    border-radius: 50%;\n",
       "    cursor: pointer;\n",
       "    display: none;\n",
       "    fill: var(--fill-color);\n",
       "    height: 32px;\n",
       "    padding: 0;\n",
       "    width: 32px;\n",
       "  }\n",
       "\n",
       "  .colab-df-quickchart:hover {\n",
       "    background-color: var(--hover-bg-color);\n",
       "    box-shadow: 0 1px 2px rgba(60, 64, 67, 0.3), 0 1px 3px 1px rgba(60, 64, 67, 0.15);\n",
       "    fill: var(--button-hover-fill-color);\n",
       "  }\n",
       "\n",
       "  .colab-df-quickchart-complete:disabled,\n",
       "  .colab-df-quickchart-complete:disabled:hover {\n",
       "    background-color: var(--disabled-bg-color);\n",
       "    fill: var(--disabled-fill-color);\n",
       "    box-shadow: none;\n",
       "  }\n",
       "\n",
       "  .colab-df-spinner {\n",
       "    border: 2px solid var(--fill-color);\n",
       "    border-color: transparent;\n",
       "    border-bottom-color: var(--fill-color);\n",
       "    animation:\n",
       "      spin 1s steps(1) infinite;\n",
       "  }\n",
       "\n",
       "  @keyframes spin {\n",
       "    0% {\n",
       "      border-color: transparent;\n",
       "      border-bottom-color: var(--fill-color);\n",
       "      border-left-color: var(--fill-color);\n",
       "    }\n",
       "    20% {\n",
       "      border-color: transparent;\n",
       "      border-left-color: var(--fill-color);\n",
       "      border-top-color: var(--fill-color);\n",
       "    }\n",
       "    30% {\n",
       "      border-color: transparent;\n",
       "      border-left-color: var(--fill-color);\n",
       "      border-top-color: var(--fill-color);\n",
       "      border-right-color: var(--fill-color);\n",
       "    }\n",
       "    40% {\n",
       "      border-color: transparent;\n",
       "      border-right-color: var(--fill-color);\n",
       "      border-top-color: var(--fill-color);\n",
       "    }\n",
       "    60% {\n",
       "      border-color: transparent;\n",
       "      border-right-color: var(--fill-color);\n",
       "    }\n",
       "    80% {\n",
       "      border-color: transparent;\n",
       "      border-right-color: var(--fill-color);\n",
       "      border-bottom-color: var(--fill-color);\n",
       "    }\n",
       "    90% {\n",
       "      border-color: transparent;\n",
       "      border-bottom-color: var(--fill-color);\n",
       "    }\n",
       "  }\n",
       "</style>\n",
       "\n",
       "  <script>\n",
       "    async function quickchart(key) {\n",
       "      const quickchartButtonEl =\n",
       "        document.querySelector('#' + key + ' button');\n",
       "      quickchartButtonEl.disabled = true;  // To prevent multiple clicks.\n",
       "      quickchartButtonEl.classList.add('colab-df-spinner');\n",
       "      try {\n",
       "        const charts = await google.colab.kernel.invokeFunction(\n",
       "            'suggestCharts', [key], {});\n",
       "      } catch (error) {\n",
       "        console.error('Error during call to suggestCharts:', error);\n",
       "      }\n",
       "      quickchartButtonEl.classList.remove('colab-df-spinner');\n",
       "      quickchartButtonEl.classList.add('colab-df-quickchart-complete');\n",
       "    }\n",
       "    (() => {\n",
       "      let quickchartButtonEl =\n",
       "        document.querySelector('#df-09d9f133-9c04-44df-b478-b6bd146c8659 button');\n",
       "      quickchartButtonEl.style.display =\n",
       "        google.colab.kernel.accessAllowed ? 'block' : 'none';\n",
       "    })();\n",
       "  </script>\n",
       "</div>\n",
       "    </div>\n",
       "  </div>\n"
      ],
      "text/plain": [
       "    Invoice ID Branch       City Customer type  Gender  \\\n",
       "0  750-67-8428      A     Yangon        Member  Female   \n",
       "1  226-31-3081      C  Naypyitaw        Normal  Female   \n",
       "2  631-41-3108      A     Yangon        Normal    Male   \n",
       "3  123-19-1176      A     Yangon        Member    Male   \n",
       "4  373-73-7910      A     Yangon        Normal    Male   \n",
       "\n",
       "             Product line  Unit price  Quantity     Total        Date   Time  \\\n",
       "0       Health and beauty       74.69         7  548.9715  01-05-2019  13:08   \n",
       "1  Electronic accessories       15.28         5   80.2200  03-08-2019  10:29   \n",
       "2      Home and lifestyle       46.33         7  340.5255  03-03-2019  13:23   \n",
       "3       Health and beauty       58.22         8  489.0480   1/27/2019  20:33   \n",
       "4       Sports and travel       86.31         7  634.3785  02-08-2019  10:37   \n",
       "\n",
       "       Payment  costofgoodssold  Rating  \n",
       "0      Ewallet           522.83     9.1  \n",
       "1         Cash            76.40     9.6  \n",
       "2  Credit card           324.31     7.4  \n",
       "3      Ewallet           465.76     8.4  \n",
       "4      Ewallet           604.17     5.3  "
      ]
     },
     "execution_count": 3,
     "metadata": {},
     "output_type": "execute_result"
    }
   ],
   "source": [
    "df = pd.read_csv('/content/dvi-a2-ps7-data.csv')\n",
    "df.head()"
   ]
  },
  {
   "cell_type": "markdown",
   "metadata": {
    "id": "1LtuFAVHJ6SJ"
   },
   "source": [
    "**Find out what type of variable you are dealing with. This will help you find the right visualisation method for that variable.**"
   ]
  },
  {
   "cell_type": "code",
   "execution_count": 4,
   "metadata": {
    "colab": {
     "base_uri": "https://localhost:8080/"
    },
    "id": "HBwPPJr9KQi_",
    "outputId": "8f6820c8-2916-4501-ac05-a87db0104068"
   },
   "outputs": [
    {
     "name": "stdout",
     "output_type": "stream",
     "text": [
      "Invoice ID          object\n",
      "Branch              object\n",
      "City                object\n",
      "Customer type       object\n",
      "Gender              object\n",
      "Product line        object\n",
      "Unit price         float64\n",
      "Quantity             int64\n",
      "Total              float64\n",
      "Date                object\n",
      "Time                object\n",
      "Payment             object\n",
      "costofgoodssold    float64\n",
      "Rating             float64\n",
      "dtype: object\n"
     ]
    }
   ],
   "source": [
    "print(df.dtypes)"
   ]
  },
  {
   "cell_type": "markdown",
   "metadata": {
    "id": "F98FUa6qKY7k"
   },
   "source": [
    "**Display the summary statistics of the data.In a markdown cell below,explain your findings.**"
   ]
  },
  {
   "cell_type": "code",
   "execution_count": 5,
   "metadata": {
    "colab": {
     "base_uri": "https://localhost:8080/",
     "height": 300
    },
    "id": "myWNssZKKeuP",
    "outputId": "49691de4-1bd8-483f-84e0-f5faa20f07ce"
   },
   "outputs": [
    {
     "data": {
      "application/vnd.google.colaboratory.intrinsic+json": {
       "summary": "{\n  \"name\": \"df\",\n  \"rows\": 8,\n  \"fields\": [\n    {\n      \"column\": \"Unit price\",\n      \"properties\": {\n        \"dtype\": \"number\",\n        \"std\": 336.6846044402689,\n        \"min\": 10.08,\n        \"max\": 1000.0,\n        \"num_unique_values\": 8,\n        \"samples\": [\n          55.67213,\n          55.230000000000004,\n          1000.0\n        ],\n        \"semantic_type\": \"\",\n        \"description\": \"\"\n      }\n    },\n    {\n      \"column\": \"Quantity\",\n      \"properties\": {\n        \"dtype\": \"number\",\n        \"std\": 351.77562002282735,\n        \"min\": 1.0,\n        \"max\": 1000.0,\n        \"num_unique_values\": 8,\n        \"samples\": [\n          5.51,\n          5.0,\n          1000.0\n        ],\n        \"semantic_type\": \"\",\n        \"description\": \"\"\n      }\n    },\n    {\n      \"column\": \"Total\",\n      \"properties\": {\n        \"dtype\": \"number\",\n        \"std\": 386.82138921506845,\n        \"min\": 10.6785,\n        \"max\": 1042.65,\n        \"num_unique_values\": 8,\n        \"samples\": [\n          322.966749,\n          253.848,\n          1000.0\n        ],\n        \"semantic_type\": \"\",\n        \"description\": \"\"\n      }\n    },\n    {\n      \"column\": \"costofgoodssold\",\n      \"properties\": {\n        \"dtype\": \"number\",\n        \"std\": 378.5991082108942,\n        \"min\": 10.17,\n        \"max\": 1000.0,\n        \"num_unique_values\": 8,\n        \"samples\": [\n          307.58738,\n          241.76,\n          1000.0\n        ],\n        \"semantic_type\": \"\",\n        \"description\": \"\"\n      }\n    },\n    {\n      \"column\": \"Rating\",\n      \"properties\": {\n        \"dtype\": \"number\",\n        \"std\": 351.3560741700247,\n        \"min\": 1.7185802943791215,\n        \"max\": 1000.0,\n        \"num_unique_values\": 8,\n        \"samples\": [\n          6.9727,\n          7.0,\n          1000.0\n        ],\n        \"semantic_type\": \"\",\n        \"description\": \"\"\n      }\n    }\n  ]\n}",
       "type": "dataframe"
      },
      "text/html": [
       "\n",
       "  <div id=\"df-0e5fe1f3-1a68-4e7e-aed3-457e4de4d7fc\" class=\"colab-df-container\">\n",
       "    <div>\n",
       "<style scoped>\n",
       "    .dataframe tbody tr th:only-of-type {\n",
       "        vertical-align: middle;\n",
       "    }\n",
       "\n",
       "    .dataframe tbody tr th {\n",
       "        vertical-align: top;\n",
       "    }\n",
       "\n",
       "    .dataframe thead th {\n",
       "        text-align: right;\n",
       "    }\n",
       "</style>\n",
       "<table border=\"1\" class=\"dataframe\">\n",
       "  <thead>\n",
       "    <tr style=\"text-align: right;\">\n",
       "      <th></th>\n",
       "      <th>Unit price</th>\n",
       "      <th>Quantity</th>\n",
       "      <th>Total</th>\n",
       "      <th>costofgoodssold</th>\n",
       "      <th>Rating</th>\n",
       "    </tr>\n",
       "  </thead>\n",
       "  <tbody>\n",
       "    <tr>\n",
       "      <th>count</th>\n",
       "      <td>1000.000000</td>\n",
       "      <td>1000.000000</td>\n",
       "      <td>1000.000000</td>\n",
       "      <td>1000.00000</td>\n",
       "      <td>1000.00000</td>\n",
       "    </tr>\n",
       "    <tr>\n",
       "      <th>mean</th>\n",
       "      <td>55.672130</td>\n",
       "      <td>5.510000</td>\n",
       "      <td>322.966749</td>\n",
       "      <td>307.58738</td>\n",
       "      <td>6.97270</td>\n",
       "    </tr>\n",
       "    <tr>\n",
       "      <th>std</th>\n",
       "      <td>26.494628</td>\n",
       "      <td>2.923431</td>\n",
       "      <td>245.885335</td>\n",
       "      <td>234.17651</td>\n",
       "      <td>1.71858</td>\n",
       "    </tr>\n",
       "    <tr>\n",
       "      <th>min</th>\n",
       "      <td>10.080000</td>\n",
       "      <td>1.000000</td>\n",
       "      <td>10.678500</td>\n",
       "      <td>10.17000</td>\n",
       "      <td>4.00000</td>\n",
       "    </tr>\n",
       "    <tr>\n",
       "      <th>25%</th>\n",
       "      <td>32.875000</td>\n",
       "      <td>3.000000</td>\n",
       "      <td>124.422375</td>\n",
       "      <td>118.49750</td>\n",
       "      <td>5.50000</td>\n",
       "    </tr>\n",
       "    <tr>\n",
       "      <th>50%</th>\n",
       "      <td>55.230000</td>\n",
       "      <td>5.000000</td>\n",
       "      <td>253.848000</td>\n",
       "      <td>241.76000</td>\n",
       "      <td>7.00000</td>\n",
       "    </tr>\n",
       "    <tr>\n",
       "      <th>75%</th>\n",
       "      <td>77.935000</td>\n",
       "      <td>8.000000</td>\n",
       "      <td>471.350250</td>\n",
       "      <td>448.90500</td>\n",
       "      <td>8.50000</td>\n",
       "    </tr>\n",
       "    <tr>\n",
       "      <th>max</th>\n",
       "      <td>99.960000</td>\n",
       "      <td>10.000000</td>\n",
       "      <td>1042.650000</td>\n",
       "      <td>993.00000</td>\n",
       "      <td>10.00000</td>\n",
       "    </tr>\n",
       "  </tbody>\n",
       "</table>\n",
       "</div>\n",
       "    <div class=\"colab-df-buttons\">\n",
       "\n",
       "  <div class=\"colab-df-container\">\n",
       "    <button class=\"colab-df-convert\" onclick=\"convertToInteractive('df-0e5fe1f3-1a68-4e7e-aed3-457e4de4d7fc')\"\n",
       "            title=\"Convert this dataframe to an interactive table.\"\n",
       "            style=\"display:none;\">\n",
       "\n",
       "  <svg xmlns=\"http://www.w3.org/2000/svg\" height=\"24px\" viewBox=\"0 -960 960 960\">\n",
       "    <path d=\"M120-120v-720h720v720H120Zm60-500h600v-160H180v160Zm220 220h160v-160H400v160Zm0 220h160v-160H400v160ZM180-400h160v-160H180v160Zm440 0h160v-160H620v160ZM180-180h160v-160H180v160Zm440 0h160v-160H620v160Z\"/>\n",
       "  </svg>\n",
       "    </button>\n",
       "\n",
       "  <style>\n",
       "    .colab-df-container {\n",
       "      display:flex;\n",
       "      gap: 12px;\n",
       "    }\n",
       "\n",
       "    .colab-df-convert {\n",
       "      background-color: #E8F0FE;\n",
       "      border: none;\n",
       "      border-radius: 50%;\n",
       "      cursor: pointer;\n",
       "      display: none;\n",
       "      fill: #1967D2;\n",
       "      height: 32px;\n",
       "      padding: 0 0 0 0;\n",
       "      width: 32px;\n",
       "    }\n",
       "\n",
       "    .colab-df-convert:hover {\n",
       "      background-color: #E2EBFA;\n",
       "      box-shadow: 0px 1px 2px rgba(60, 64, 67, 0.3), 0px 1px 3px 1px rgba(60, 64, 67, 0.15);\n",
       "      fill: #174EA6;\n",
       "    }\n",
       "\n",
       "    .colab-df-buttons div {\n",
       "      margin-bottom: 4px;\n",
       "    }\n",
       "\n",
       "    [theme=dark] .colab-df-convert {\n",
       "      background-color: #3B4455;\n",
       "      fill: #D2E3FC;\n",
       "    }\n",
       "\n",
       "    [theme=dark] .colab-df-convert:hover {\n",
       "      background-color: #434B5C;\n",
       "      box-shadow: 0px 1px 3px 1px rgba(0, 0, 0, 0.15);\n",
       "      filter: drop-shadow(0px 1px 2px rgba(0, 0, 0, 0.3));\n",
       "      fill: #FFFFFF;\n",
       "    }\n",
       "  </style>\n",
       "\n",
       "    <script>\n",
       "      const buttonEl =\n",
       "        document.querySelector('#df-0e5fe1f3-1a68-4e7e-aed3-457e4de4d7fc button.colab-df-convert');\n",
       "      buttonEl.style.display =\n",
       "        google.colab.kernel.accessAllowed ? 'block' : 'none';\n",
       "\n",
       "      async function convertToInteractive(key) {\n",
       "        const element = document.querySelector('#df-0e5fe1f3-1a68-4e7e-aed3-457e4de4d7fc');\n",
       "        const dataTable =\n",
       "          await google.colab.kernel.invokeFunction('convertToInteractive',\n",
       "                                                    [key], {});\n",
       "        if (!dataTable) return;\n",
       "\n",
       "        const docLinkHtml = 'Like what you see? Visit the ' +\n",
       "          '<a target=\"_blank\" href=https://colab.research.google.com/notebooks/data_table.ipynb>data table notebook</a>'\n",
       "          + ' to learn more about interactive tables.';\n",
       "        element.innerHTML = '';\n",
       "        dataTable['output_type'] = 'display_data';\n",
       "        await google.colab.output.renderOutput(dataTable, element);\n",
       "        const docLink = document.createElement('div');\n",
       "        docLink.innerHTML = docLinkHtml;\n",
       "        element.appendChild(docLink);\n",
       "      }\n",
       "    </script>\n",
       "  </div>\n",
       "\n",
       "\n",
       "<div id=\"df-74e27cba-69de-474e-b19e-c07ddb09270a\">\n",
       "  <button class=\"colab-df-quickchart\" onclick=\"quickchart('df-74e27cba-69de-474e-b19e-c07ddb09270a')\"\n",
       "            title=\"Suggest charts\"\n",
       "            style=\"display:none;\">\n",
       "\n",
       "<svg xmlns=\"http://www.w3.org/2000/svg\" height=\"24px\"viewBox=\"0 0 24 24\"\n",
       "     width=\"24px\">\n",
       "    <g>\n",
       "        <path d=\"M19 3H5c-1.1 0-2 .9-2 2v14c0 1.1.9 2 2 2h14c1.1 0 2-.9 2-2V5c0-1.1-.9-2-2-2zM9 17H7v-7h2v7zm4 0h-2V7h2v10zm4 0h-2v-4h2v4z\"/>\n",
       "    </g>\n",
       "</svg>\n",
       "  </button>\n",
       "\n",
       "<style>\n",
       "  .colab-df-quickchart {\n",
       "      --bg-color: #E8F0FE;\n",
       "      --fill-color: #1967D2;\n",
       "      --hover-bg-color: #E2EBFA;\n",
       "      --hover-fill-color: #174EA6;\n",
       "      --disabled-fill-color: #AAA;\n",
       "      --disabled-bg-color: #DDD;\n",
       "  }\n",
       "\n",
       "  [theme=dark] .colab-df-quickchart {\n",
       "      --bg-color: #3B4455;\n",
       "      --fill-color: #D2E3FC;\n",
       "      --hover-bg-color: #434B5C;\n",
       "      --hover-fill-color: #FFFFFF;\n",
       "      --disabled-bg-color: #3B4455;\n",
       "      --disabled-fill-color: #666;\n",
       "  }\n",
       "\n",
       "  .colab-df-quickchart {\n",
       "    background-color: var(--bg-color);\n",
       "    border: none;\n",
       "    border-radius: 50%;\n",
       "    cursor: pointer;\n",
       "    display: none;\n",
       "    fill: var(--fill-color);\n",
       "    height: 32px;\n",
       "    padding: 0;\n",
       "    width: 32px;\n",
       "  }\n",
       "\n",
       "  .colab-df-quickchart:hover {\n",
       "    background-color: var(--hover-bg-color);\n",
       "    box-shadow: 0 1px 2px rgba(60, 64, 67, 0.3), 0 1px 3px 1px rgba(60, 64, 67, 0.15);\n",
       "    fill: var(--button-hover-fill-color);\n",
       "  }\n",
       "\n",
       "  .colab-df-quickchart-complete:disabled,\n",
       "  .colab-df-quickchart-complete:disabled:hover {\n",
       "    background-color: var(--disabled-bg-color);\n",
       "    fill: var(--disabled-fill-color);\n",
       "    box-shadow: none;\n",
       "  }\n",
       "\n",
       "  .colab-df-spinner {\n",
       "    border: 2px solid var(--fill-color);\n",
       "    border-color: transparent;\n",
       "    border-bottom-color: var(--fill-color);\n",
       "    animation:\n",
       "      spin 1s steps(1) infinite;\n",
       "  }\n",
       "\n",
       "  @keyframes spin {\n",
       "    0% {\n",
       "      border-color: transparent;\n",
       "      border-bottom-color: var(--fill-color);\n",
       "      border-left-color: var(--fill-color);\n",
       "    }\n",
       "    20% {\n",
       "      border-color: transparent;\n",
       "      border-left-color: var(--fill-color);\n",
       "      border-top-color: var(--fill-color);\n",
       "    }\n",
       "    30% {\n",
       "      border-color: transparent;\n",
       "      border-left-color: var(--fill-color);\n",
       "      border-top-color: var(--fill-color);\n",
       "      border-right-color: var(--fill-color);\n",
       "    }\n",
       "    40% {\n",
       "      border-color: transparent;\n",
       "      border-right-color: var(--fill-color);\n",
       "      border-top-color: var(--fill-color);\n",
       "    }\n",
       "    60% {\n",
       "      border-color: transparent;\n",
       "      border-right-color: var(--fill-color);\n",
       "    }\n",
       "    80% {\n",
       "      border-color: transparent;\n",
       "      border-right-color: var(--fill-color);\n",
       "      border-bottom-color: var(--fill-color);\n",
       "    }\n",
       "    90% {\n",
       "      border-color: transparent;\n",
       "      border-bottom-color: var(--fill-color);\n",
       "    }\n",
       "  }\n",
       "</style>\n",
       "\n",
       "  <script>\n",
       "    async function quickchart(key) {\n",
       "      const quickchartButtonEl =\n",
       "        document.querySelector('#' + key + ' button');\n",
       "      quickchartButtonEl.disabled = true;  // To prevent multiple clicks.\n",
       "      quickchartButtonEl.classList.add('colab-df-spinner');\n",
       "      try {\n",
       "        const charts = await google.colab.kernel.invokeFunction(\n",
       "            'suggestCharts', [key], {});\n",
       "      } catch (error) {\n",
       "        console.error('Error during call to suggestCharts:', error);\n",
       "      }\n",
       "      quickchartButtonEl.classList.remove('colab-df-spinner');\n",
       "      quickchartButtonEl.classList.add('colab-df-quickchart-complete');\n",
       "    }\n",
       "    (() => {\n",
       "      let quickchartButtonEl =\n",
       "        document.querySelector('#df-74e27cba-69de-474e-b19e-c07ddb09270a button');\n",
       "      quickchartButtonEl.style.display =\n",
       "        google.colab.kernel.accessAllowed ? 'block' : 'none';\n",
       "    })();\n",
       "  </script>\n",
       "</div>\n",
       "    </div>\n",
       "  </div>\n"
      ],
      "text/plain": [
       "        Unit price     Quantity        Total  costofgoodssold      Rating\n",
       "count  1000.000000  1000.000000  1000.000000       1000.00000  1000.00000\n",
       "mean     55.672130     5.510000   322.966749        307.58738     6.97270\n",
       "std      26.494628     2.923431   245.885335        234.17651     1.71858\n",
       "min      10.080000     1.000000    10.678500         10.17000     4.00000\n",
       "25%      32.875000     3.000000   124.422375        118.49750     5.50000\n",
       "50%      55.230000     5.000000   253.848000        241.76000     7.00000\n",
       "75%      77.935000     8.000000   471.350250        448.90500     8.50000\n",
       "max      99.960000    10.000000  1042.650000        993.00000    10.00000"
      ]
     },
     "execution_count": 5,
     "metadata": {},
     "output_type": "execute_result"
    }
   ],
   "source": [
    "df.describe()"
   ]
  },
  {
   "cell_type": "markdown",
   "metadata": {
    "id": "qc5UrPbnmcRz"
   },
   "source": [
    "Unit Price - Count is 1000 non null values, Mean is 55.67, std deviation is 55.67, maximum unit price is 99.96, Minimum unit price is 10.08, 25% percentile is 32.87, Median(50%) is 55.23, 75% percentile is 77.93\n",
    "\n",
    "Quantity - Count is 1000 non null values, Mean is 5.51, std deviation is 2.92, minimum is 1, 25% percentile is 3, Median(50%) is 5, 75% percentile is 8 and maximum is 10\n",
    "\n",
    "Total- Count is 1000 non null values, Mean is 322.96, std deviation is 245.88, Minimum is 10.67, 25% percentile is 124.42, Median is 253.84, 75% percentile is 471.35 and maximum is 1042.65\n",
    "\n",
    "Cost of goods sold - Count is 1000 non null values, Mean is 307.58, std deviation is 234.17, Minimum is 10.17, 25% percentile is 118.49, Median is 241.76, 75% percentile is 448.90 and maximum is 993\n",
    "\n",
    "Rating - Count is 1000 non null values, Mean is 6.97, std deviation is 1.71, Minimum is 4, 25% percentile is 5.50, Median is 7, 75% percentile is 8.50 and maximum is 10\n",
    "\n"
   ]
  },
  {
   "cell_type": "markdown",
   "metadata": {
    "id": "YrfM-JjqKnXN"
   },
   "source": [
    "**Identify whether male/female spends more on 'Health and beauty'.Write the code below**"
   ]
  },
  {
   "cell_type": "code",
   "execution_count": 6,
   "metadata": {
    "colab": {
     "base_uri": "https://localhost:8080/"
    },
    "id": "tJyfOsjTKqL3",
    "outputId": "482e62b6-dc2b-4a98-fb91-2707205d2dbc"
   },
   "outputs": [
    {
     "name": "stdout",
     "output_type": "stream",
     "text": [
      "Spending: Male: 30632.7525  Female: 18560.986500000003\n",
      "Males spend more on Health and Beauty.\n"
     ]
    }
   ],
   "source": [
    "health_beauty_data = df[df['Product line'] == 'Health and beauty']\n",
    "male_spending = health_beauty_data[health_beauty_data['Gender'] == 'Male']['Total'].sum()\n",
    "female_spending = health_beauty_data[health_beauty_data['Gender'] == 'Female']['Total'].sum()\n",
    "\n",
    "print(f\"Spending: Male: {male_spending}  Female: {female_spending}\")\n",
    "\n",
    "if male_spending > female_spending:\n",
    "    print(\"Males spend more on Health and Beauty.\")\n",
    "elif male_spending < female_spending:\n",
    "    print(\"Females spend more on Health and Beauty.\")\n",
    "else:\n",
    "    print(\"Males and females spend equally on Health and Beauty.\")"
   ]
  },
  {
   "cell_type": "markdown",
   "metadata": {
    "id": "INvn1QFELBAQ"
   },
   "source": [
    "\n",
    "**Question 1**\n",
    "\n",
    "**Check the distribution of the Price variable .**\n",
    "\n",
    "**Write the python code in the below cell to create appropriate visual to perform the above task.**\n",
    "\n",
    "\n",
    "**1.Summarise your findings from the visual.**\n",
    "\n",
    "**2.The reason for selecting the chart type you did.**\n",
    "\n",
    "**3.Mention the pre-attentive attributes used.**\n",
    "\n",
    "**4.Mention the gestalt principles used.**"
   ]
  },
  {
   "cell_type": "code",
   "execution_count": 7,
   "metadata": {
    "colab": {
     "base_uri": "https://localhost:8080/",
     "height": 564
    },
    "id": "3N9xUJziLNBI",
    "outputId": "be35173e-1efb-4b87-f543-c5965b02218a"
   },
   "outputs": [
    {
     "data": {
      "image/png": "[encoded data removed]",
      "text/plain": [
       "<Figure size 1000x600 with 1 Axes>"
      ]
     },
     "metadata": {},
     "output_type": "display_data"
    }
   ],
   "source": [
    "plt.figure(figsize=(10, 6))\n",
    "plt.hist(df['Unit price'], bins=20, edgecolor='black')\n",
    "plt.title('Distribution of Unit Price')\n",
    "plt.xlabel('Unit Price')\n",
    "plt.show()"
   ]
  },
  {
   "cell_type": "markdown",
   "metadata": {
    "id": "aTAjZ9uTLXa6"
   },
   "source": [
    "**Summary of Findings:**\n",
    "\n",
    "From the histogram, we can observe the distribution of unit prices across the dataset. It appears that most unit prices fall within certain ranges, with fewer products having higher prices.\n",
    "\n",
    "**Reason for selecting the chart type**\n",
    "\n",
    "Histograms are suitable for visualizing the distribution of a single continuous variable. They provide insights into the central tendency, dispersion, and shape of the data.\n",
    "\n",
    "**Pre-attentive attributes used:**\n",
    "\n",
    "Color: The color 'skyblue' is used to fill the bars, making them visually distinct from the background and aiding in the perception of the distribution.\n",
    "\n",
    "Length: The length of each bar represents the frequency of unit prices falling within a specific range, allowing for quick comparisons.\n",
    "\n",
    "**Gestalt principles used:**\n",
    "\n",
    "Proximity: The bars are grouped closely together, indicating that they belong to the same distribution.\n",
    "\n",
    "Continuity: The bars form a continuous distribution, allowing viewers to perceive patterns and trends in the data."
   ]
  },
  {
   "cell_type": "markdown",
   "metadata": {
    "id": "_s32n7jBLfcK"
   },
   "source": [
    "**Question 2**\n",
    "\n",
    "**What does the distribution of customer rating looks like? Draw the mean,25th and 75th percentile on the plot.**\n",
    "\n",
    "**Write the python code in the below cell to create the appropriate visual to perform the above task .**\n",
    "**Answer in markdown cells below the visual**\n",
    "\n",
    "**1.Summarise your findings from the visual.**\n",
    "\n",
    "**2.The reason for selecting the chart type you did.**\n",
    "\n",
    "**3.Mention the pre-attentive attributes used.**\n",
    "\n",
    "**4.Mention the gestalt principles used.**"
   ]
  },
  {
   "cell_type": "code",
   "execution_count": 8,
   "metadata": {
    "colab": {
     "base_uri": "https://localhost:8080/",
     "height": 472
    },
    "id": "tKlsLzKeLkBw",
    "outputId": "7cc27ae5-dc76-43a4-bc76-7e9099db4b1a"
   },
   "outputs": [
    {
     "data": {
      "image/png": "[encoded data removed]",
      "text/plain": [
       "<Figure size 640x480 with 1 Axes>"
      ]
     },
     "metadata": {},
     "output_type": "display_data"
    }
   ],
   "source": [
    "mean_value = df['Rating'].mean()\n",
    "percentile_25 = df['Rating'].quantile(0.25)\n",
    "percentile_75 = df['Rating'].quantile(0.75)\n",
    "\n",
    "plt.boxplot(df['Rating'], vert=False, showmeans=True, meanline=True)\n",
    "plt.axvline(mean_value, color='red', linestyle='dashed', linewidth=2, label='Mean')\n",
    "plt.axvline(percentile_25, color='green', linestyle='dashed', linewidth=2, label='25th Percentile')\n",
    "plt.axvline(percentile_75, color='blue', linestyle='dashed', linewidth=2, label='75th Percentile')\n",
    "plt.xlabel('Customer Rating')\n",
    "plt.ylabel('Density')\n",
    "plt.title('Distribution of Customer Ratings')\n",
    "plt.legend()\n",
    "\n",
    "plt.show()"
   ]
  },
  {
   "cell_type": "markdown",
   "metadata": {
    "id": "r_DgoAhd3hUA"
   },
   "source": [
    "1. **Findings** : The average customer rating is approximately 7, as indicated by the red dashed line in the middle of the plot. The median customer rating, represented by the green dashed line (25th percentile), is around 6. This means that 25% of the customer ratings are below 6. The 75th percentile, represented by the blue dashed line, is around 8. This implies that 75% of the customer ratings are below 8, and the remaining 25% are above 8.The minimum customer rating is around 4, and the maximum rating is around 10, based on the whiskers (vertical lines) extending from the box.\n",
    "\n",
    "2. **Reason for selecting box plot : ** A box plot allows for easy comparison of key statistics. By displaying the mean, 25th percentile, 75th percentile, and the range in one compact plot, we can quickly assess and compare critical aspects of the rating distribution. It facilitates the identification of potential issues or areas of concern. For example, if the median rating is substantially lower than the mean, it may indicate that a smaller number of very high or very low ratings are skewing the average, which could be a cause for further investigation.\n",
    "\n",
    "3. **Pre attentive Attributes :**\n",
    "Color: Different colors (red, green, blue) are used to differentiate the various statistical measures.\n",
    "Length: The lengths of the whiskers and the box itself convey information about the range and interquartile range, respectively, utilizing the pre-attentive attribute of length.\n",
    "Position: The vertical positions of the various elements (mean line, box, whiskers) on the y-axis convey their relative magnitudes, capitalizing on the pre-attentive attribute of position.\n",
    "Orientation: The horizontal orientation of the box and whiskers contrasts with the vertical orientation of the lines representing statistical measures, allowing viewers to easily distinguish these elements.\n",
    "\n",
    "4. **Gestalt principles used :** Similarity, Proximity, Continuity, Closure\n"
   ]
  },
  {
   "cell_type": "markdown",
   "metadata": {
    "id": "VnhHUXzxAaVT"
   },
   "source": [
    "**Question 3**\n",
    "\n",
    "**For each payment method,compare the product lines. Does any stand out?**\n",
    "\n",
    "**Write the python code in the below cell to create appropriate visual to perform the above task. **\n",
    "**Answer in markdown cells below the visual**\n",
    "\n",
    "**1.Summarise your findings from the visual.**\n",
    "\n",
    "**2.The reason for selecting the chart type you did.**\n",
    "\n",
    "**3.Mention the pre-attentive attributes used.(atleast 2)**\n",
    "\n",
    "**4.Mention the gestalt principles used.(atleast 2)**"
   ]
  },
  {
   "cell_type": "code",
   "execution_count": 9,
   "metadata": {
    "colab": {
     "base_uri": "https://localhost:8080/",
     "height": 1000
    },
    "id": "LCUVze8rAr0R",
    "outputId": "ede250ca-db00-4949-817c-4237ae204f7a"
   },
   "outputs": [
    {
     "data": {
      "image/png": "[encoded data removed]",
      "text/plain": [
       "<Figure size 1000x1200 with 1 Axes>"
      ]
     },
     "metadata": {},
     "output_type": "display_data"
    }
   ],
   "source": [
    "plt.figure(figsize=(10,12))\n",
    "sns.countplot(x='Payment', hue='Product line', data=df,palette='viridis').set_title('Distribution of Product line by Gender');"
   ]
  },
  {
   "cell_type": "markdown",
   "metadata": {
    "id": "KMmedYX8B5k8"
   },
   "source": [
    "1. **Findings:**\n",
    "\n",
    "For Ewallet payments, the most popular product line is Health and Beauty, followed by Electronic Accessories and Home and Lifestyle. For Cash payments, Health and Beauty is the most preferred product line, followed by Electronic Accessories and Sports and Travel.For Credit Card payments, Health and Beauty and Electronic Accessories are the top two product lines, with Home and Lifestyle being the third.Across all payment methods, Health and Beauty and Electronic Accessories are consistently the top two product lines.Fashion Accessories and Food and Beverages have the lowest sales across all payment methods.\n",
    "\n",
    "2. **Reason for using stacked bar chart:**\n",
    "Stacked bar chart allows for the comparison of multiple categories (product lines) within each group (payment method),easy to see the relative proportions of each product line for a given payment method, as well as the overall distribution across payment methods.\n",
    "\n",
    "3. **Pre attentive attributes used :**\n",
    "Color: Different colors are used for each product line, allowing for easy identification and differentiation at a glance.\n",
    "Length: The length of each bar segment encodes the relative proportion or magnitude of each product line within a payment method.\n",
    "Orientation: The horizontal orientation of the bars makes it easy to compare values across payment methods.\n",
    "\n",
    "4. **Gestalt Principles used :** Similarity, Proximity, Continuity\n",
    "\n",
    "\n",
    "\n"
   ]
  },
  {
   "cell_type": "markdown",
   "metadata": {
    "id": "lD31oyJgDEwp"
   },
   "source": [
    "**Question 4**\n",
    "**Identify, which is the most appropriate time(hour) to give online disount?**\n",
    "\n",
    "**Write the python code in the below cell to create the appropriate visual(single visual) to perform the above task .(Prep the data as necessary)**\n",
    "**Answer in markdown cells below the visual**\n",
    "\n",
    "**1.Summarise your findings from the visual.**\n",
    "\n",
    "2**.The reason for selecting the chart type you did.**\n",
    "\n",
    "**3.Mention the pre-attentive attributes used.(atleast 2)**\n",
    "\n",
    "**4.Mention the gestalt principles used.(atleast 2)**"
   ]
  },
  {
   "cell_type": "code",
   "execution_count": 10,
   "metadata": {
    "colab": {
     "base_uri": "https://localhost:8080/",
     "height": 564
    },
    "id": "4FGrt-neDfdO",
    "outputId": "c485e4d0-5ff4-475b-b799-a18f433034ba"
   },
   "outputs": [
    {
     "data": {
      "image/png": "[encoded data removed]",
      "text/plain": [
       "<Figure size 1000x600 with 1 Axes>"
      ]
     },
     "metadata": {},
     "output_type": "display_data"
    }
   ],
   "source": [
    "df['Time'] = pd.to_datetime(df['Time'])\n",
    "df['Hour'] = df['Time'].dt.hour\n",
    "plt.figure(figsize=(10, 6))\n",
    "plt.hist(df['Hour'], bins=5, color='green', edgecolor='black', alpha=0.7)\n",
    "plt.title('Order Distribution by Hour')\n",
    "plt.xlabel('Hour of the Day')\n",
    "plt.ylabel('Frequency')\n",
    "plt.xticks(range(9, 21))\n",
    "plt.show()"
   ]
  },
  {
   "cell_type": "markdown",
   "metadata": {
    "id": "SsBJXtnXEBVI"
   },
   "source": [
    "1. **Findings :**\n",
    "Order frequency appears to be relatively low during the early hours of the day (before 1000 hrs).Order frequency begins to increase around 1800 to 2000 hrs, suggesting a surge in orders during the afternoon and evening hours which is appropriate time to give online discounts.\n",
    "\n",
    "2. **Reason for using barchart :**\n",
    "Bar chart is an appropriate choice for displaying quantitative data over a categorical variable (hour of the day), easy comparison of order frequencies across different hours.\n",
    "\n",
    "3. **Pre attentive attributes used :**\n",
    "Color: The consistent use of green for the bars allows the viewer to quickly identify and group the relevant data elements.\n",
    "Length: The varying lengths of the bars encode the quantitative information (order frequency) in a way that is easily perceived and compared by the viewer.\n",
    "\n",
    "4. **Gestalt Principles used :**Similarity, Proximity"
   ]
  },
  {
   "cell_type": "markdown",
   "metadata": {
    "id": "NzXDyPTEGQLM"
   },
   "source": [
    "**Question 5**\n",
    "\n",
    "**Which product line is more profitable?**\n",
    "\n",
    "**Write the python code in the below cell to create the appropriate visual(single visual) to perform the above task .(Prep the data as necessary) **\n",
    "**Answer in markdown cells below the visual**\n",
    "\n",
    "**1.Summarise your findings from the visual.**\n",
    "\n",
    "**2.The reason for selecting the chart type you did.**\n",
    "\n",
    "**3.Mention the pre-attentive attributes used.(atleast 2)**\n",
    "\n",
    "**4.Mention the gestalt principles used.(atleast 2)**"
   ]
  },
  {
   "cell_type": "code",
   "execution_count": 11,
   "metadata": {
    "colab": {
     "base_uri": "https://localhost:8080/",
     "height": 564
    },
    "id": "YWRDgRAwGmQC",
    "outputId": "f18ec23b-8054-47de-94da-9c93f5107124"
   },
   "outputs": [
    {
     "data": {
      "image/png": "[encoded data removed]",
      "text/plain": [
       "<Figure size 1000x600 with 1 Axes>"
      ]
     },
     "metadata": {},
     "output_type": "display_data"
    }
   ],
   "source": [
    "df['Profit'] = df['Total'] - df['costofgoodssold']\n",
    "profit_by_product = df.groupby('Product line')['Profit'].sum()\n",
    "\n",
    "plt.figure(figsize=(10, 6))\n",
    "profit_by_product.sort_values().plot(kind='barh', color='skyblue')\n",
    "plt.title('Total Profit by Product Line')\n",
    "plt.xlabel('Total Profit')\n",
    "plt.ylabel('Product Line')\n",
    "plt.show()"
   ]
  },
  {
   "cell_type": "markdown",
   "metadata": {
    "id": "BhYGed-FG_R8"
   },
   "source": [
    "1. **Findings:**\n",
    "\n",
    "The graph displays the total profit by different product lines. The x-axis represents the total profit value, while the y-axis lists the various product line categories.Food and beverages product line has the longest bar, indicating that it generated the highest total profit among all the product lines shown.The next most profitable product lines, in descending order of total profit, appear to be Sports and travel, Electronic accessories, Fashion accessories, and Home and lifestyle.The Health and beauty product line has the shortest bar, suggesting that it generated the lowest total profit compared to the other product categories displayed in the chart.\n",
    "\n",
    "2. **Reason for using Barchart:**\n",
    "\n",
    "Barchart allows for an effective comparison of values (total profit) across different categories (product lines). The length of the bars provides a clear visual representation of the relative magnitudes, making it easy to identify the most and least profitable product lines at a glance.\n",
    "\n",
    "3. **Preattentive attributes used :**\n",
    "Length: The length of the bars encodes the total profit values, leveraging the pre-attentive attribute of length to facilitate quick comparisons.\n",
    "Spatial positioning: The bars are arranged vertically, with the product line categories aligned on the y-axis, taking advantage of the pre-attentive attribute of spatial positioning for easy association between bars and categories.\n",
    "\n",
    "4. **Gestalt Principles used:**  Similarity, Proximity, Continuity\n"
   ]
  },
  {
   "cell_type": "markdown",
   "metadata": {
    "id": "4Mi7_msV-g3B"
   },
   "source": [
    "**Group's choice-2 Marks**\n",
    "\n",
    "**Frame 1 (more) question which will help in the EDA(Exploratory Data Analysis) of the given data set and answer the same using the best visual.**\n",
    "\n",
    "**Write the question in a markdown cell**\n",
    "\n",
    "**Below the question, in a coding cell, write the python code to create the visual to answer the question**\n",
    "\n",
    "**Which is the distribution of different product line across cities ?**"
   ]
  },
  {
   "cell_type": "code",
   "execution_count": 17,
   "metadata": {
    "colab": {
     "base_uri": "https://localhost:8080/",
     "height": 612
    },
    "id": "P34hRAhY_ZR0",
    "outputId": "bb7148cb-b26d-45d7-eeea-9f1f71ec8ffe"
   },
   "outputs": [
    {
     "data": {
      "image/png": "[encoded data removed]",
      "text/plain": [
       "<Figure size 1200x600 with 1 Axes>"
      ]
     },
     "metadata": {},
     "output_type": "display_data"
    }
   ],
   "source": [
    "plt.figure(figsize=(12, 6))\n",
    "sns.countplot(data=df, x='City', hue='Product line')\n",
    "plt.title('Distribution of Product Lines Across Cities')\n",
    "plt.xlabel('City')\n",
    "plt.ylabel('Count')\n",
    "plt.xticks(rotation=45)\n",
    "plt.legend(title='Product line', loc='upper right')\n",
    "plt.show()"
   ]
  },
  {
   "cell_type": "markdown",
   "metadata": {
    "id": "xAE2dmkdCJrM"
   },
   "source": [
    "1. **Findings-**\n",
    "The visualization shows the distribution of product lines across different cities.Each bar represents the count of occurrences of a particular product line within a city.The hue parameter is used to differentiate between different product lines within each city. Yangon city spends the highest in Home and Lifestyle, Naypyitaw spends the most in Food and beverages and Mandalay spends the most in Sports And Travel and fashion accessories.\n",
    "\n",
    "2. **Reason for using the visualisation-**\n",
    "\n",
    "Bar graph helps in understanding the distribution of product lines across cities, identify pattern or trends and make data driven decisions.\n",
    "\n",
    "3. **Preattentive attributes used :** Color and Length\n",
    "\n",
    "4. **Gestalt Principles Used :** Proximity, Similarity and Continuity\n"
   ]
  }
 ],
 "metadata": {
  "colab": {
   "provenance": []
  },
  "kernelspec": {
   "display_name": "Python 3 (ipykernel)",
   "language": "python",
   "name": "python3"
  },
  "language_info": {
   "codemirror_mode": {
    "name": "ipython",
    "version": 3
   },
   "file_extension": ".py",
   "mimetype": "text/x-python",
   "name": "python",
   "nbconvert_exporter": "python",
   "pygments_lexer": "ipython3",
   "version": "3.11.5"
  }
 },
 "nbformat": 4,
 "nbformat_minor": 4
}
